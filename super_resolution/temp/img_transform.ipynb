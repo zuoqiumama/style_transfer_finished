{
 "cells": [
  {
   "cell_type": "code",
   "execution_count": 1,
   "metadata": {
    "collapsed": true
   },
   "outputs": [],
   "source": [
    "import os\n",
    "from PIL import Image\n",
    "from torchvision import transforms as tfs\n"
   ]
  },
  {
   "cell_type": "code",
   "execution_count": 2,
   "outputs": [
    {
     "data": {
      "text/plain": "['.git',\n '.idea',\n 'CycleGan.ipynb',\n 'datasets',\n 'datasets.py',\n 'epoch.txt',\n 'model.py',\n 'output',\n 'super_resolution',\n 'train.py',\n '__pycache__']"
     },
     "execution_count": 2,
     "metadata": {},
     "output_type": "execute_result"
    }
   ],
   "source": [
    "os.listdir(\"E:\\毕设\\style_transfer\\learn_gan\\CycleGan\")"
   ],
   "metadata": {
    "collapsed": false
   }
  },
  {
   "cell_type": "code",
   "execution_count": null,
   "outputs": [],
   "source": [
    "import os\n",
    "from PIL import Image\n",
    "from torchvision import transforms as tfs\n",
    "\n",
    "\n",
    "def get_crop_size(crop_size, upscale=2):\n",
    "    return crop_size - (crop_size % upscale)\n",
    "\n",
    "\n",
    "def input_transform(img, idx, boxes, crop_size, upscale_factor=2):\n",
    "    x1, y1, w, h = list(map(int, boxes[idx].strip().split()[1:]))\n",
    "    img = img.crop([x1, y1, x1+w, y1+h])\n",
    "    return tfs.Compose([\n",
    "        tfs.CenterCrop(crop_size),\n",
    "        tfs.Resize(crop_size // upscale_factor)\n",
    "    ])(img)\n",
    "\n",
    "\n",
    "def target_transform(img, idx, boxes, crop_size):\n",
    "    x1, y1, w, h = list(map(int, boxes[idx].strip().split()[1:]))\n",
    "    img = img.crop([x1, y1, x1 + w, y1 + h])\n",
    "    return tfs.Compose([\n",
    "        tfs.CenterCrop(crop_size)\n",
    "    ])(img)\n",
    "\n",
    "\n",
    "def generate_data(row_path, save_path, file_path, upscale_factor=4, divide=0.95):\n",
    "    all_data = os.listdir(row_path)\n",
    "    data_length = 30000\n",
    "    train_stop = int(data_length * divide)\n",
    "    crop_size = get_crop_size(128, upscale_factor)\n",
    "    f = open(file_path)\n",
    "    boxes = f.readlines()[2:]\n",
    "    if not os.path.exists(os.path.join(save_path, \"train\")):\n",
    "        os.makedirs(os.path.join(save_path, \"train\"))\n",
    "    f_train = open(os.path.join(save_path, \"train.txt\"), \"w\")\n",
    "    if not os.path.exists(os.path.join(save_path, \"val\")):\n",
    "        os.makedirs(os.path.join(save_path, \"val\"))\n",
    "    f_val = open(os.path.join(save_path, \"val.txt\"), \"w\")\n",
    "    for t in range(0, train_stop):\n",
    "        img = Image.open(os.path.join(row_path, all_data[t].strip()))\n",
    "        label = img.copy()\n",
    "        img = input_transform(img, t, boxes, crop_size, upscale_factor)\n",
    "        label = target_transform(label, t, boxes, crop_size)\n",
    "        if not os.path.exists(os.path.join(save_path, \"train\", \"img\")):\n",
    "            os.makedirs(os.path.join(save_path, \"train\", \"img\"))\n",
    "        img.save(os.path.join(save_path, \"train\", \"img\", \"{}.jpg\".format(t)))\n",
    "        if not os.path.exists(os.path.join(save_path, \"train\", \"label\")):\n",
    "            os.makedirs(os.path.join(save_path, \"train\", \"label\"))\n",
    "        label.save(os.path.join(save_path, \"train\", \"label\", \"{}.jpg\".format(t)))\n",
    "        f_train.write(f\"{t}.jpg\\n\")\n",
    "        f_train.flush()\n",
    "\n",
    "    for v in range(train_stop, data_length):\n",
    "        img = Image.open(os.path.join(row_path, all_data[v].strip()))\n",
    "        label = img.copy()\n",
    "        img = input_transform(img, v, boxes, crop_size, upscale_factor)\n",
    "        label = target_transform(label, v, boxes, crop_size)\n",
    "        if not os.path.exists(os.path.join(save_path, \"val\", \"img\")):\n",
    "            os.makedirs(os.path.join(save_path, \"val\", \"img\"))\n",
    "        img.save(os.path.join(save_path, \"val\", \"img\", \"{}.jpg\".format(v - train_stop)))\n",
    "        if not os.path.exists(os.path.join(save_path, \"val\", \"label\")):\n",
    "            os.makedirs(os.path.join(save_path, \"val\", \"label\"))\n",
    "        label.save(os.path.join(save_path, \"val\", \"label\", \"{}.jpg\".format(v - train_stop)))\n",
    "        f_val.write(f\"{v - train_stop}.jpg\\n\")\n",
    "        f_val.flush()\n"
   ],
   "metadata": {
    "collapsed": false
   }
  },
  {
   "cell_type": "code",
   "execution_count": 4,
   "outputs": [
    {
     "data": {
      "text/plain": "128"
     },
     "execution_count": 4,
     "metadata": {},
     "output_type": "execute_result"
    }
   ],
   "source": [
    "128 - (128 % 4)"
   ],
   "metadata": {
    "collapsed": false
   }
  },
  {
   "cell_type": "code",
   "execution_count": null,
   "outputs": [],
   "source": [
    "\n"
   ],
   "metadata": {
    "collapsed": false
   }
  }
 ],
 "metadata": {
  "kernelspec": {
   "display_name": "Python 3",
   "language": "python",
   "name": "python3"
  },
  "language_info": {
   "codemirror_mode": {
    "name": "ipython",
    "version": 2
   },
   "file_extension": ".py",
   "mimetype": "text/x-python",
   "name": "python",
   "nbconvert_exporter": "python",
   "pygments_lexer": "ipython2",
   "version": "2.7.6"
  }
 },
 "nbformat": 4,
 "nbformat_minor": 0
}
